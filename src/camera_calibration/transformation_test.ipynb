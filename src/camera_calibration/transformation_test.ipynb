{
 "cells": [
  {
   "cell_type": "markdown",
   "metadata": {},
   "source": [
    "# Load Projection Matrix"
   ]
  },
  {
   "cell_type": "code",
   "execution_count": 3,
   "metadata": {},
   "outputs": [],
   "source": [
    "import numpy as np\n",
    "\n",
    "# open csv file and organize the 3 rows of 4 columns into a 3x4 matrix\n",
    "matrix = np.genfromtxt('../../data/projection_matrix.csv', delimiter=',')"
   ]
  },
  {
   "cell_type": "markdown",
   "metadata": {},
   "source": [
    "# Separate Intrinsic and Extrinsic Matrices (#TODO)"
   ]
  },
  {
   "cell_type": "code",
   "execution_count": 66,
   "metadata": {},
   "outputs": [
    {
     "name": "stdout",
     "output_type": "stream",
     "text": [
      "X0:  [-2.72301637e-05  3.27839947e-01  8.26040676e-01]\n",
      "R:  [[ 0.99975094 -0.01976936 -0.01035482]\n",
      " [ 0.00622818  0.69270933 -0.72118998]\n",
      " [-0.02143034 -0.72094587 -0.69265994]]\n",
      "ang:  46.155039317830635\n",
      "T:  [[ 1.          0.          0.          0.        ]\n",
      " [ 0.          0.73171069  0.68161533  0.35      ]\n",
      " [ 0.         -0.68161533  0.73171069  0.7       ]\n",
      " [ 0.          0.          0.          1.        ]]\n",
      "fx:  2.048609161567175\n",
      "fy:  -3.7603323745396056\n",
      "P:  [[ 2.92658452  0.          0.          0.        ]\n",
      " [ 0.         -3.93067916 -3.66157171 -1.88016619]\n",
      " [ 0.         -0.97373619  1.04530099  1.        ]]\n"
     ]
    }
   ],
   "source": [
    "H = matrix[0:3, 0:3]\n",
    "H_inv = np.linalg.inv(H)\n",
    "h = matrix[0:3, 3]\n",
    "X0 = np.dot(-H_inv, h)\n",
    "print(\"X0: \", X0)\n",
    "# real is [0, 0.35, 0.7]\n",
    "\n",
    "# QR decomposition\n",
    "R, Q = np.linalg.qr(H)\n",
    "R = -R\n",
    "print(\"R: \", R)\n",
    "ang = np.arccos(R[1, 1])\n",
    "print(\"ang: \", ang * 180 / np.pi)\n",
    "\n",
    "ang = -42.97 * np.pi / 180\n",
    "T = np.array([\n",
    "    [1, 0, 0, 0],\n",
    "    [0, np.cos(ang), -np.sin(ang), 0.35],\n",
    "    [0, np.sin(ang), np.cos(ang), 0.7],\n",
    "    [0, 0, 0, 1]\n",
    "])\n",
    "print(\"T: \", T)\n",
    "\n",
    "fx = matrix[0, 0]\n",
    "a1 = T[1, 1]\n",
    "a2 = T[1, 2]\n",
    "b1 = T[2, 1]\n",
    "b2 = T[2, 2]\n",
    "c = matrix[1, 1]\n",
    "d = matrix[1, 2]\n",
    "fy = (c*b2/b1 - d) / (a1*b2/b1 - a2)\n",
    "print(\"fx: \", fx)\n",
    "print(\"fy: \", fy)\n",
    "K = np.array([\n",
    "    [fx, 0, 0],\n",
    "    [0, fy, 0],\n",
    "    [0, 0, 1]\n",
    "])\n",
    "K = np.hstack((K, np.zeros((3, 1))))\n",
    "P = np.dot(K, T)\n",
    "print(\"P: \", P/0.7)"
   ]
  },
  {
   "cell_type": "markdown",
   "metadata": {},
   "source": [
    "# Direct Transformation (World -> Pixel)"
   ]
  },
  {
   "cell_type": "code",
   "execution_count": 4,
   "metadata": {},
   "outputs": [
    {
     "name": "stdout",
     "output_type": "stream",
     "text": [
      "90.25179592606435 46.87221119401002\n"
     ]
    }
   ],
   "source": [
    "px = np.dot(matrix, np.array([-1.5, 2.5, 0, 1]))\n",
    "# print(px[0] * 960 + 960/2, px[1] * 528 + 528/2)\n",
    "px = px / px[2]\n",
    "print(px[0] * 960 + 960/2, px[1] * 528 + 528/2)"
   ]
  },
  {
   "cell_type": "markdown",
   "metadata": {},
   "source": [
    "# Inverse Transformation (Pixel -> World with z=0)"
   ]
  },
  {
   "cell_type": "code",
   "execution_count": 25,
   "metadata": {},
   "outputs": [
    {
     "name": "stdout",
     "output_type": "stream",
     "text": [
      "Took 0.73ms to compute the result\n",
      "[-1.10914892  2.32785784  0.          1.        ]\n"
     ]
    }
   ],
   "source": [
    "import time\n",
    "\n",
    "x = 173\n",
    "y = 65\n",
    "px = np.array([(x - 960/2) / 960, (y - 528/2) / 528, 1])\n",
    "\n",
    "M = np.array([\n",
    "    [1, 0, 0],\n",
    "    [0, 1, 0],\n",
    "    [0, 0, 0],\n",
    "    [0, 0, 1]]\n",
    ")\n",
    "t0 = time.time()\n",
    "inv_matrix = np.dot(M, np.linalg.inv(np.dot(matrix, M)))\n",
    "result = np.dot(inv_matrix, px)\n",
    "result = result / result[-1]\n",
    "t1 = time.time()\n",
    "print(f\"Took {(t1 - t0) * 1000:.2f}ms to compute the result\")\n",
    "print(result)"
   ]
  }
 ],
 "metadata": {
  "kernelspec": {
   "display_name": "Python 3",
   "language": "python",
   "name": "python3"
  },
  "language_info": {
   "codemirror_mode": {
    "name": "ipython",
    "version": 3
   },
   "file_extension": ".py",
   "mimetype": "text/x-python",
   "name": "python",
   "nbconvert_exporter": "python",
   "pygments_lexer": "ipython3",
   "version": "3.8.10"
  }
 },
 "nbformat": 4,
 "nbformat_minor": 2
}
